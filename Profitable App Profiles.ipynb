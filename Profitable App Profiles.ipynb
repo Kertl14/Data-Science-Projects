{
 "cells": [
  {
   "cell_type": "markdown",
   "metadata": {},
   "source": [
    "# Profitable App Profiles for the App Store and Google Play Markets\n",
    "\n",
    "A Mobile Publishing company has requested assistence with the development of their latest app.  This organization is only interested in developing free apps, and the majority of their revenue comes from in-app ads.  In order to maximize their ad revenue, I need to identify traits and patterns that lead to high user engagement.\n",
    "\n",
    "In order to answer this question, I have access to several datapoints relating to the top ~7,000 apps on the Apple Store, and the top ~11,000 on the Google Play Store.  \n",
    "\n",
    "To begin, I load in the two data sets and perform some simple exploration to get a feel for how the data is structured."
   ]
  },
  {
   "cell_type": "code",
   "execution_count": 1,
   "metadata": {},
   "outputs": [
    {
     "name": "stdout",
     "output_type": "stream",
     "text": [
      "['id', 'track_name', 'size_bytes', 'currency', 'price', 'rating_count_tot', 'rating_count_ver', 'user_rating', 'user_rating_ver', 'ver', 'cont_rating', 'prime_genre', 'sup_devices.num', 'ipadSc_urls.num', 'lang.num', 'vpp_lic']\n",
      "\n",
      "\n",
      "['284882215', 'Facebook', '389879808', 'USD', '0.0', '2974676', '212', '3.5', '3.5', '95.0', '4+', 'Social Networking', '37', '1', '29', '1']\n",
      "\n",
      "\n",
      "['389801252', 'Instagram', '113954816', 'USD', '0.0', '2161558', '1289', '4.5', '4.0', '10.23', '12+', 'Photo & Video', '37', '0', '29', '1']\n",
      "\n",
      "\n",
      "['App', 'Category', 'Rating', 'Reviews', 'Size', 'Installs', 'Type', 'Price', 'Content Rating', 'Genres', 'Last Updated', 'Current Ver', 'Android Ver']\n",
      "\n",
      "\n",
      "['Photo Editor & Candy Camera & Grid & ScrapBook', 'ART_AND_DESIGN', '4.1', '159', '19M', '10,000+', 'Free', '0', 'Everyone', 'Art & Design', 'January 7, 2018', '1.0.0', '4.0.3 and up']\n",
      "\n",
      "\n",
      "['Coloring book moana', 'ART_AND_DESIGN', '3.9', '967', '14M', '500,000+', 'Free', '0', 'Everyone', 'Art & Design;Pretend Play', 'January 15, 2018', '2.0.0', '4.0.3 and up']\n",
      "\n",
      "\n"
     ]
    }
   ],
   "source": [
    "from csv import reader\n",
    "\n",
    "opened_1 = open('AppleStore.csv', encoding=\"utf8\")\n",
    "opened_2 = open('googleplaystore.csv', encoding=\"utf8\")\n",
    "read_1 = reader(opened_1)\n",
    "read_2 = reader(opened_2)\n",
    "data_apple = list(read_1)\n",
    "data_google = list(read_2)\n",
    "\n",
    "def explore_data(dataset, start, end, rows_and_columns=False):\n",
    "    dataset_slice = dataset[start:end]    \n",
    "    for row in dataset_slice:\n",
    "        print(row)\n",
    "        print('\\n') # adds a new (empty) line after each row\n",
    "\n",
    "    if rows_and_columns:\n",
    "        print('Number of rows:', len(dataset))\n",
    "        print('Number of columns:', len(dataset[0]))\n",
    "        \n",
    "\n",
    "explore_data(data_apple, 0, 3)\n",
    "\n",
    "explore_data(data_google, 0, 3)"
   ]
  },
  {
   "cell_type": "markdown",
   "metadata": {},
   "source": [
    "## Data Hygiene\n",
    "\n",
    "Before I can perform any meaningful analysis, the data needs to be cleaned and organized to ensure that it is accurate and digestible.  If my input is messy, my output will be messy regardless of the method I use to get it.\n",
    "\n",
    "To align with the specific goals of this project, the data cleaning process will consist of four steps:\n",
    "\n",
    "1. Correcting or removing innacurate data.\n",
    "2. Detecting and removing duplicate data.\n",
    "3. Removing non-English apps.\n",
    "4. Removing apps that aren't free."
   ]
  },
  {
   "cell_type": "markdown",
   "metadata": {},
   "source": [
    "### Step 1: Correcting or removing inaccurate data.\n",
    "\n",
    "In order to identify inaccurate data, I have consulted the discussion boards relating to the [Google Play](https://www.kaggle.com/lava18/google-play-store-apps/undefined) and [Apple Store](https://www.kaggle.com/ramamet4/app-store-apple-data-set-10k-apps/undefined) datasets.  I have decided to tackle the Google Play dataset first.\n",
    "\n",
    "The first issue I discovered is that the app entry at index 10473 is missing the catagory entry that should be at `index[1]`.  Without this datapoint, the indexes of all entires that come after the category column will be offset - therefore causing any analysis done on this line to be innacurate at best, and impossible at worst.  to avoid any issues down the line I have elected to remove it from the dataset.\n",
    "\n"
   ]
  },
  {
   "cell_type": "code",
   "execution_count": 2,
   "metadata": {},
   "outputs": [
    {
     "name": "stdout",
     "output_type": "stream",
     "text": [
      "['Jazz Wi-Fi', 'COMMUNICATION', '3.4', '49', '4.0M', '10,000+', 'Free', '0', 'Everyone', 'Communication', 'February 10, 2017', '0.1', '2.3 and up']\n",
      "\n",
      "\n",
      "['Xposed Wi-Fi-Pwd', 'PERSONALIZATION', '3.5', '1042', '404k', '100,000+', 'Free', '0', 'Everyone', 'Personalization', 'August 5, 2014', '3.0.0', '4.0.3 and up']\n",
      "\n",
      "\n",
      "['Life Made WI-Fi Touchscreen Photo Frame', '1.9', '19', '3.0M', '1,000+', 'Free', '0', 'Everyone', '', 'February 11, 2018', '1.0.19', '4.0 and up']\n",
      "\n",
      "\n",
      "['osmino Wi-Fi: free WiFi', 'TOOLS', '4.2', '134203', '4.1M', '10,000,000+', 'Free', '0', 'Everyone', 'Tools', 'August 7, 2018', '6.06.14', '4.4 and up']\n",
      "\n",
      "\n"
     ]
    }
   ],
   "source": [
    "explore_data(data_google, 10471, 10475)\n",
    "del data_google[10473]"
   ]
  },
  {
   "cell_type": "markdown",
   "metadata": {},
   "source": [
    "Now I can print the same index range and see that the \"Life Made Wi-fi\" entry with the missing column has been removed"
   ]
  },
  {
   "cell_type": "code",
   "execution_count": 3,
   "metadata": {
    "scrolled": true
   },
   "outputs": [
    {
     "name": "stdout",
     "output_type": "stream",
     "text": [
      "['Jazz Wi-Fi', 'COMMUNICATION', '3.4', '49', '4.0M', '10,000+', 'Free', '0', 'Everyone', 'Communication', 'February 10, 2017', '0.1', '2.3 and up']\n",
      "\n",
      "\n",
      "['Xposed Wi-Fi-Pwd', 'PERSONALIZATION', '3.5', '1042', '404k', '100,000+', 'Free', '0', 'Everyone', 'Personalization', 'August 5, 2014', '3.0.0', '4.0.3 and up']\n",
      "\n",
      "\n",
      "['osmino Wi-Fi: free WiFi', 'TOOLS', '4.2', '134203', '4.1M', '10,000,000+', 'Free', '0', 'Everyone', 'Tools', 'August 7, 2018', '6.06.14', '4.4 and up']\n",
      "\n",
      "\n",
      "['Sat-Fi Voice', 'COMMUNICATION', '3.4', '37', '14M', '1,000+', 'Free', '0', 'Everyone', 'Communication', 'November 21, 2014', '2.2.1.5', '2.2 and up']\n",
      "\n",
      "\n"
     ]
    }
   ],
   "source": [
    "explore_data(data_google, 10471, 10475)"
   ]
  },
  {
   "cell_type": "markdown",
   "metadata": {},
   "source": [
    "The discussion board called out one more issue with the Google Play dataset - the app 'Command & Conquer: Rivals' has a type of 'NaN'.  As the price is listed as zero, the expected value is 'Free'.  \n",
    "\n",
    "Below I show the issue, ensure it isnt repeated elsewhere, then replace the type value in question with 'Free' to keep any type analysis consistent."
   ]
  },
  {
   "cell_type": "code",
   "execution_count": 4,
   "metadata": {},
   "outputs": [
    {
     "name": "stdout",
     "output_type": "stream",
     "text": [
      "['App', 'Category', 'Rating', 'Reviews', 'Size', 'Installs', 'Type', 'Price', 'Content Rating', 'Genres', 'Last Updated', 'Current Ver', 'Android Ver']\n",
      "\n",
      "['Command & Conquer: Rivals', 'FAMILY', 'NaN', '0', 'Varies with device', '0', 'NaN', '0', 'Everyone 10+', 'Strategy', 'June 28, 2018', 'Varies with device', 'Varies with device']\n"
     ]
    }
   ],
   "source": [
    "print(data_google[0])\n",
    "print()\n",
    "for row in data_google:\n",
    "    if row[0] == 'Command & Conquer: Rivals':\n",
    "        print(row)"
   ]
  },
  {
   "cell_type": "code",
   "execution_count": 5,
   "metadata": {},
   "outputs": [
    {
     "name": "stdout",
     "output_type": "stream",
     "text": [
      "['Command & Conquer: Rivals', 'FAMILY', 'NaN', '0', 'Varies with device', '0', 'NaN', '0', 'Everyone 10+', 'Strategy', 'June 28, 2018', 'Varies with device', 'Varies with device']\n",
      "\n",
      "9149\n"
     ]
    }
   ],
   "source": [
    "for row in data_google:\n",
    "    if row[6] == 'NaN':\n",
    "        print(row)\n",
    "        print()\n",
    "        print(data_google.index(row))"
   ]
  },
  {
   "cell_type": "code",
   "execution_count": 6,
   "metadata": {},
   "outputs": [
    {
     "name": "stdout",
     "output_type": "stream",
     "text": [
      "['Command & Conquer: Rivals', 'FAMILY', 'NaN', '0', 'Varies with device', '0', 'Free', '0', 'Everyone 10+', 'Strategy', 'June 28, 2018', 'Varies with device', 'Varies with device']\n"
     ]
    }
   ],
   "source": [
    "data_google[9149][6] = 'Free'\n",
    "print(data_google[9149])"
   ]
  },
  {
   "cell_type": "markdown",
   "metadata": {},
   "source": [
    "After reviewing the discussion boards for the Apple Dataset, it appears that the only additional issues are with duplication which will be handled in the next step."
   ]
  },
  {
   "cell_type": "markdown",
   "metadata": {},
   "source": [
    "### Step 2: Detecting and removing duplicate data.\n",
    "\n",
    "The next step is removing any duplicate entires from the datasets.  Counting the same app multiple times in my analysis will lead to schewed results, so I need to remove these duplicate entires before begining my calculations."
   ]
  },
  {
   "cell_type": "code",
   "execution_count": 7,
   "metadata": {},
   "outputs": [
    {
     "name": "stdout",
     "output_type": "stream",
     "text": [
      "['Instagram', 'SOCIAL', '4.5', '66577313', 'Varies with device', '1,000,000,000+', 'Free', '0', 'Teen', 'Social', 'July 31, 2018', 'Varies with device', 'Varies with device']\n",
      "['Instagram', 'SOCIAL', '4.5', '66577446', 'Varies with device', '1,000,000,000+', 'Free', '0', 'Teen', 'Social', 'July 31, 2018', 'Varies with device', 'Varies with device']\n",
      "['Instagram', 'SOCIAL', '4.5', '66577313', 'Varies with device', '1,000,000,000+', 'Free', '0', 'Teen', 'Social', 'July 31, 2018', 'Varies with device', 'Varies with device']\n",
      "['Instagram', 'SOCIAL', '4.5', '66509917', 'Varies with device', '1,000,000,000+', 'Free', '0', 'Teen', 'Social', 'July 31, 2018', 'Varies with device', 'Varies with device']\n"
     ]
    }
   ],
   "source": [
    "for row in data_google:\n",
    "    if row[0] == 'Instagram':\n",
    "        print(row)"
   ]
  },
  {
   "cell_type": "markdown",
   "metadata": {},
   "source": [
    "The code above shows that Instagram is listed 4 times in the dataset.  The only difference between these entires is the number of user ratings, so I can deduce that the entry with the higest rating count is the most recent one.  The methodology I will use to dedupe these data sets, will be to keep the most recent entry for each app, as defined by the highest rating count.\n",
    "\n",
    "Now to identify exactly how many duplicates there are in each dataset, as well as how long the datasets should be (excluding the header row) after they have been deduped."
   ]
  },
  {
   "cell_type": "code",
   "execution_count": 8,
   "metadata": {},
   "outputs": [
    {
     "name": "stdout",
     "output_type": "stream",
     "text": [
      "number of duplicate enties in apple dataset: 2\n",
      "number of duplicate enties in google dataset: 1181\n",
      "Expected length of deduped apple dataset: 7195\n",
      "Expected length of deduped google dataset: 9659\n"
     ]
    }
   ],
   "source": [
    "apple_unique = []\n",
    "apple_dupe = []\n",
    "google_unique = []\n",
    "google_dupe = []\n",
    "\n",
    "for row in data_apple:\n",
    "    name = row[1]\n",
    "    if name in apple_unique:\n",
    "        apple_dupe.append(name)\n",
    "    else:\n",
    "        apple_unique.append(name)\n",
    "\n",
    "for row in data_google:\n",
    "    name = row[0]\n",
    "    if name in google_unique:\n",
    "        google_dupe.append(name)\n",
    "    else:\n",
    "        google_unique.append(name)\n",
    "        \n",
    "print('number of duplicate enties in apple dataset: ' + str(len(apple_dupe)))\n",
    "print('number of duplicate enties in google dataset: ' + str(len(google_dupe)))\n",
    "\n",
    "\n",
    "# Subtracting one more from each of these values to account for the header row that will not be present in the cleaned data\n",
    "print('Expected length of deduped apple dataset: ' + str(len(data_apple) - len(apple_dupe) - 1))\n",
    "print('Expected length of deduped google dataset: ' + str(len(data_google) - len(google_dupe) - 1))"
   ]
  },
  {
   "cell_type": "markdown",
   "metadata": {},
   "source": [
    "#### Dataset Deduplication\n",
    "\n",
    "In the code below, I have deduplicated the datasets using the higest number of ratings as the criteria that defines which duplicate entry is kept.  This was done using the steps below:\n",
    "\n",
    "1. Created a dictionary to store the highest rating count for each unique app title in the google dataset and the apple dataset.\n",
    "\n",
    "2. Created new lists called `android_clean` and `apple_clean` to capture the deduped datasets.\n",
    "\n",
    "3. Populated these new lists using a single entry for each unique app title by:\n",
    "    1. Checking that the rating count of the entry matches the max rating count stored in the dictionary.\n",
    "    2. Checking that the app title has not already been added to the new list.\n",
    "4. Checked the length of this new dataset to make sure it matches the expected value of 9659\n"
   ]
  },
  {
   "cell_type": "code",
   "execution_count": 9,
   "metadata": {},
   "outputs": [
    {
     "name": "stdout",
     "output_type": "stream",
     "text": [
      "length of the android_clean dataset: 9659\n"
     ]
    }
   ],
   "source": [
    "reviews_max_google = {}\n",
    "\n",
    "for row in data_google[1:]:\n",
    "    name = row[0]\n",
    "    n_reviews = float(row[3])\n",
    "    if name in reviews_max_google and reviews_max_google[name] < n_reviews:\n",
    "        reviews_max_google[name] = n_reviews\n",
    "    elif name not in reviews_max_google:\n",
    "        reviews_max_google[name] = n_reviews\n",
    "                \n",
    "android_clean = []\n",
    "already_added = []\n",
    "\n",
    "for row in data_google[1:]:\n",
    "    name = row[0]\n",
    "    n_reviews = float(row[3])\n",
    "    if n_reviews == reviews_max_google[name] and name not in already_added:\n",
    "        android_clean.append(row)\n",
    "        already_added.append(name)\n",
    "\n",
    "print('length of the android_clean dataset: ' + str(len(android_clean)))\n"
   ]
  },
  {
   "cell_type": "code",
   "execution_count": 10,
   "metadata": {},
   "outputs": [
    {
     "name": "stdout",
     "output_type": "stream",
     "text": [
      "length of the apple_clean dataset: 7195\n"
     ]
    }
   ],
   "source": [
    "reviews_max_apple = {}\n",
    "\n",
    "for row in data_apple[1:]:\n",
    "    name = row[1]\n",
    "    n_reviews = float(row[5])\n",
    "    if name in reviews_max_apple and reviews_max_apple[name] < n_reviews:\n",
    "        reviews_max_apple[name] = n_reviews\n",
    "    elif name not in reviews_max_apple:\n",
    "        reviews_max_apple[name] = n_reviews\n",
    "                \n",
    "apple_clean = []\n",
    "already_added = []\n",
    "\n",
    "for row in data_apple[1:]:\n",
    "    name = row[1]\n",
    "    n_reviews = float(row[5])\n",
    "    if n_reviews == reviews_max_apple[name] and name not in already_added:\n",
    "        apple_clean.append(row)\n",
    "        already_added.append(name)\n",
    "\n",
    "print('length of the apple_clean dataset: ' + str(len(apple_clean)))"
   ]
  },
  {
   "cell_type": "markdown",
   "metadata": {},
   "source": [
    "### Step 3: Removing non-English apps.\n",
    "\n",
    "Next on the data hygeine list is to remove all apps that are targeted towards non-english speaking audiences.  I am defining non-english apps as any that have more than 3 characters in the title that fall outside of the 0 - 127 ASCII range that is normally used to define english characters. \n",
    "\n",
    "The reason I am allowing up to three special characters, is that many app titles use characters like Emojis or Copyright symbols which also fall outside the 0 - 127 range.  Granted this will not be a perfect system and some apps will be classified incorrectly, but it should be close enough to serve my purposes."
   ]
  },
  {
   "cell_type": "code",
   "execution_count": 11,
   "metadata": {},
   "outputs": [
    {
     "name": "stdout",
     "output_type": "stream",
     "text": [
      "We have 9614 Android apps remaining\n",
      "We have 6181 Apple apps remaining\n"
     ]
    }
   ],
   "source": [
    "def check_english(x):\n",
    "    strx = str(x)\n",
    "    counter = 0\n",
    "    for i in strx:\n",
    "        if ord(i) > 127:\n",
    "            counter += 1      \n",
    "    if counter > 3:\n",
    "        return False\n",
    "    else:\n",
    "        return True\n",
    "\n",
    "apple_eng = []\n",
    "android_eng = []\n",
    "\n",
    "for row in apple_clean:\n",
    "    name = row[1]\n",
    "    if check_english(name):\n",
    "        apple_eng.append(row)\n",
    "\n",
    "for row in android_clean:\n",
    "    name = row[0]\n",
    "    if check_english(name):\n",
    "        android_eng.append(row)\n",
    "        \n",
    "print('We have ' + str(len(android_eng)) + ' Android apps remaining')\n",
    "print('We have ' + str(len(apple_eng)) + ' Apple apps remaining')"
   ]
  },
  {
   "cell_type": "markdown",
   "metadata": {},
   "source": [
    "### Step 4: Removing apps that aren't free.\n",
    "\n",
    "Lastly, we now need to remove any paid apps from our dataset.  As the client is only interested in developing free apps, including paid apps in my analysis will result in irrelevant or misleading results.  "
   ]
  },
  {
   "cell_type": "code",
   "execution_count": 12,
   "metadata": {},
   "outputs": [
    {
     "name": "stdout",
     "output_type": "stream",
     "text": [
      "We have 8864 Android apps remaining\n",
      "We have 3220 Apple apps remaining\n"
     ]
    }
   ],
   "source": [
    "apple_free = []\n",
    "android_free = []\n",
    "\n",
    "for row in apple_eng:\n",
    "    price = row[4]\n",
    "    if price == '0.0':\n",
    "        apple_free.append(row)\n",
    "        \n",
    "for row in android_eng:\n",
    "    price = row[7]\n",
    "    if price == '0':\n",
    "        android_free.append(row)\n",
    "        \n",
    "print('We have ' + str(len(android_free)) + ' Android apps remaining')\n",
    "print('We have ' + str(len(apple_free)) + ' Apple apps remaining')"
   ]
  },
  {
   "cell_type": "markdown",
   "metadata": {},
   "source": [
    "## Data Analysis\n",
    "\n",
    "Now that I have isolated only the apps that are relevant, the next step is structuring the data in a manner that will allow me to answer the question.  The go forward plan for development is outlined below:\n",
    "\n",
    "1. Build a minimal Android version of the app, and add it to Google Play.\n",
    "2. If the app has a good response from users, we develop it further.\n",
    "3. If the app is profitable after six months, we build an iOS version of the app and add it to the App Store.\n",
    "\n",
    "To align with this plan, I need to find app profiles that are successful in both markets.  The code below willl build frequency tables for the prime_genre column in the apple dataset, as well as the Category and Genre ones for the Android one."
   ]
  },
  {
   "cell_type": "code",
   "execution_count": 13,
   "metadata": {
    "scrolled": true
   },
   "outputs": [],
   "source": [
    "def freq_table(dataset, index):\n",
    "    freq_dict = {}\n",
    "    for row in dataset:\n",
    "        value = row[index]\n",
    "        if value not in freq_dict:\n",
    "            freq_dict[value] = 1\n",
    "        else:\n",
    "            freq_dict[value] +=1\n",
    "            \n",
    "    length = len(dataset)\n",
    "    freq_dict_perc = {}\n",
    "    \n",
    "    for key in freq_dict:\n",
    "        entry = freq_dict[key]\n",
    "        perc = (entry/length) * 100\n",
    "        freq_dict_perc[key] = perc\n",
    "        \n",
    "    return freq_dict_perc\n",
    "        \n",
    "def display_table(dataset, index):\n",
    "    table = freq_table(dataset, index)\n",
    "    table_display = []\n",
    "    for key in table:\n",
    "        key_val_as_tuple = (table[key], key)\n",
    "        table_display.append(key_val_as_tuple)\n",
    "\n",
    "    table_sorted = sorted(table_display, reverse = True)\n",
    "    for entry in table_sorted:\n",
    "        print(entry[1], ':', entry[0])\n",
    "\n"
   ]
  },
  {
   "cell_type": "markdown",
   "metadata": {},
   "source": [
    "### Apple Dataset\n",
    "\n",
    "The table below shows that Games dominate the free apps targeted towards English speakers on the app store with roughly 58% of the apps in question being games.  The next two categories by number of apps are Entertainment with just below 8% of the total, then Photo & Video with 5%.\n",
    "\n",
    "This strongly implies that where free apps are concerned, entertainment apps tend to be more popular than practical ones with English speaking apple store users.  \n",
    "\n",
    "While this alone doesn't necessarily mean that Games, Entertainment, and Photo and Video apps are more successful than other types of apps, it does show that the demand for these app genres can support a large number of products.  However, it also shows that competition is VERY high in these markets so differentiating factors and unique fucntionality are extra important where these types of apps are concerned.\n",
    "\n",
    "On the other end of the spectrum, Business, Book, Navigation, Medical, and Catalogs are at the bottom of the list, all with less than 1% of the total dataset coming from these genres.  \n",
    "\n",
    "This could mean one of several things:\n",
    "\n",
    "1. Fewer users are interested in these types of apps.\n",
    "2. There are undisputed market leaders for these audiences that have discouraged competition.\n",
    "3. The market has not yet been taken advantage of and the competitive barrier to entry is low."
   ]
  },
  {
   "cell_type": "code",
   "execution_count": 14,
   "metadata": {},
   "outputs": [
    {
     "name": "stdout",
     "output_type": "stream",
     "text": [
      "Games : 58.13664596273293\n",
      "Entertainment : 7.888198757763975\n",
      "Photo & Video : 4.968944099378882\n",
      "Education : 3.6645962732919255\n",
      "Social Networking : 3.291925465838509\n",
      "Shopping : 2.608695652173913\n",
      "Utilities : 2.515527950310559\n",
      "Sports : 2.142857142857143\n",
      "Music : 2.049689440993789\n",
      "Health & Fitness : 2.018633540372671\n",
      "Productivity : 1.7391304347826086\n",
      "Lifestyle : 1.5838509316770186\n",
      "News : 1.3354037267080745\n",
      "Travel : 1.2422360248447204\n",
      "Finance : 1.1180124223602486\n",
      "Weather : 0.8695652173913043\n",
      "Food & Drink : 0.8074534161490683\n",
      "Reference : 0.5590062111801243\n",
      "Business : 0.5279503105590062\n",
      "Book : 0.43478260869565216\n",
      "Navigation : 0.18633540372670807\n",
      "Medical : 0.18633540372670807\n",
      "Catalogs : 0.12422360248447205\n"
     ]
    }
   ],
   "source": [
    "display_table(apple_free, 11)"
   ]
  },
  {
   "cell_type": "markdown",
   "metadata": {},
   "source": [
    "### Google Dataset\n",
    "\n",
    "The google dataset contained two different columns that could be helpful in answering this question, so the anaylsis for both are below."
   ]
  },
  {
   "cell_type": "markdown",
   "metadata": {},
   "source": [
    "#### Catagory\n",
    "\n",
    "The top the entries from the Category column are Family at 18.9%, Game at 9.7% and toosl at 8.5%.  Family apps probably include quite a few games, but the fact that tools ranks so high shows an interesting difference between the Apple and Google audiences.  I don't want to infer too much as there are several reasons that the numbers may be showing this way, but this initial overview suggests that the Google Play audience is more interested in practical apps than the Apple audience, as a larger percentage of the apps on the Google Play store cater to these types of users.\n",
    "\n",
    "Business and Finance apps also make up a much larger percentage of free apps on the Google Play store, which also suggests that the audience may be older and more practically minded than that of the Apple Store."
   ]
  },
  {
   "cell_type": "code",
   "execution_count": 15,
   "metadata": {},
   "outputs": [
    {
     "name": "stdout",
     "output_type": "stream",
     "text": [
      "FAMILY : 18.907942238267147\n",
      "GAME : 9.724729241877256\n",
      "TOOLS : 8.461191335740072\n",
      "BUSINESS : 4.591606498194946\n",
      "LIFESTYLE : 3.9034296028880866\n",
      "PRODUCTIVITY : 3.892148014440433\n",
      "FINANCE : 3.7003610108303246\n",
      "MEDICAL : 3.531137184115524\n",
      "SPORTS : 3.395758122743682\n",
      "PERSONALIZATION : 3.3167870036101084\n",
      "COMMUNICATION : 3.2378158844765346\n",
      "HEALTH_AND_FITNESS : 3.0798736462093865\n",
      "PHOTOGRAPHY : 2.944494584837545\n",
      "NEWS_AND_MAGAZINES : 2.7978339350180503\n",
      "SOCIAL : 2.6624548736462095\n",
      "TRAVEL_AND_LOCAL : 2.33528880866426\n",
      "SHOPPING : 2.2450361010830324\n",
      "BOOKS_AND_REFERENCE : 2.1435018050541514\n",
      "DATING : 1.861462093862816\n",
      "VIDEO_PLAYERS : 1.7937725631768955\n",
      "MAPS_AND_NAVIGATION : 1.3989169675090252\n",
      "FOOD_AND_DRINK : 1.2409747292418771\n",
      "EDUCATION : 1.1620036101083033\n",
      "ENTERTAINMENT : 0.9589350180505415\n",
      "LIBRARIES_AND_DEMO : 0.9363718411552346\n",
      "AUTO_AND_VEHICLES : 0.9250902527075812\n",
      "HOUSE_AND_HOME : 0.8235559566787004\n",
      "WEATHER : 0.8009927797833934\n",
      "EVENTS : 0.7107400722021661\n",
      "PARENTING : 0.6543321299638989\n",
      "ART_AND_DESIGN : 0.6430505415162455\n",
      "COMICS : 0.6204873646209386\n",
      "BEAUTY : 0.5979241877256317\n"
     ]
    }
   ],
   "source": [
    "display_table(android_free, 1)"
   ]
  },
  {
   "cell_type": "markdown",
   "metadata": {},
   "source": [
    "#### Genre\n",
    "\n",
    "The main difference I see between the Genre column and the Category one above, is that several categories are broken up into smaller sub categories in this set.  The two obvious ones are Family and Games, which have both been broken up into several more specific categories.  \n",
    "\n",
    "As a high level overview, the Category set is more helpful, but the more detailed information in this dataset may be useful once a higher level course of action has been chosen."
   ]
  },
  {
   "cell_type": "code",
   "execution_count": 16,
   "metadata": {},
   "outputs": [
    {
     "name": "stdout",
     "output_type": "stream",
     "text": [
      "Tools : 8.449909747292418\n",
      "Entertainment : 6.069494584837545\n",
      "Education : 5.347472924187725\n",
      "Business : 4.591606498194946\n",
      "Productivity : 3.892148014440433\n",
      "Lifestyle : 3.892148014440433\n",
      "Finance : 3.7003610108303246\n",
      "Medical : 3.531137184115524\n",
      "Sports : 3.463447653429603\n",
      "Personalization : 3.3167870036101084\n",
      "Communication : 3.2378158844765346\n",
      "Action : 3.1024368231046933\n",
      "Health & Fitness : 3.0798736462093865\n",
      "Photography : 2.944494584837545\n",
      "News & Magazines : 2.7978339350180503\n",
      "Social : 2.6624548736462095\n",
      "Travel & Local : 2.3240072202166067\n",
      "Shopping : 2.2450361010830324\n",
      "Books & Reference : 2.1435018050541514\n",
      "Simulation : 2.0419675090252705\n",
      "Dating : 1.861462093862816\n",
      "Arcade : 1.8501805054151623\n",
      "Video Players & Editors : 1.7712093862815883\n",
      "Casual : 1.7599277978339352\n",
      "Maps & Navigation : 1.3989169675090252\n",
      "Food & Drink : 1.2409747292418771\n",
      "Puzzle : 1.128158844765343\n",
      "Racing : 0.9927797833935018\n",
      "Role Playing : 0.9363718411552346\n",
      "Libraries & Demo : 0.9363718411552346\n",
      "Auto & Vehicles : 0.9250902527075812\n",
      "Strategy : 0.9138086642599278\n",
      "House & Home : 0.8235559566787004\n",
      "Weather : 0.8009927797833934\n",
      "Events : 0.7107400722021661\n",
      "Adventure : 0.6768953068592057\n",
      "Comics : 0.6092057761732852\n",
      "Beauty : 0.5979241877256317\n",
      "Art & Design : 0.5979241877256317\n",
      "Parenting : 0.4963898916967509\n",
      "Card : 0.45126353790613716\n",
      "Casino : 0.42870036101083037\n",
      "Trivia : 0.41741877256317694\n",
      "Educational;Education : 0.39485559566787\n",
      "Board : 0.3835740072202166\n",
      "Educational : 0.3722924187725632\n",
      "Education;Education : 0.33844765342960287\n",
      "Word : 0.2594765342960289\n",
      "Casual;Pretend Play : 0.236913357400722\n",
      "Music : 0.2030685920577617\n",
      "Racing;Action & Adventure : 0.16922382671480143\n",
      "Puzzle;Brain Games : 0.16922382671480143\n",
      "Entertainment;Music & Video : 0.16922382671480143\n",
      "Casual;Brain Games : 0.13537906137184114\n",
      "Casual;Action & Adventure : 0.13537906137184114\n",
      "Arcade;Action & Adventure : 0.12409747292418773\n",
      "Action;Action & Adventure : 0.10153429602888085\n",
      "Educational;Pretend Play : 0.09025270758122744\n",
      "Simulation;Action & Adventure : 0.078971119133574\n",
      "Parenting;Education : 0.078971119133574\n",
      "Entertainment;Brain Games : 0.078971119133574\n",
      "Board;Brain Games : 0.078971119133574\n",
      "Parenting;Music & Video : 0.06768953068592057\n",
      "Educational;Brain Games : 0.06768953068592057\n",
      "Casual;Creativity : 0.06768953068592057\n",
      "Art & Design;Creativity : 0.06768953068592057\n",
      "Education;Pretend Play : 0.056407942238267145\n",
      "Role Playing;Pretend Play : 0.04512635379061372\n",
      "Education;Creativity : 0.04512635379061372\n",
      "Role Playing;Action & Adventure : 0.033844765342960284\n",
      "Puzzle;Action & Adventure : 0.033844765342960284\n",
      "Entertainment;Creativity : 0.033844765342960284\n",
      "Entertainment;Action & Adventure : 0.033844765342960284\n",
      "Educational;Creativity : 0.033844765342960284\n",
      "Educational;Action & Adventure : 0.033844765342960284\n",
      "Education;Music & Video : 0.033844765342960284\n",
      "Education;Brain Games : 0.033844765342960284\n",
      "Education;Action & Adventure : 0.033844765342960284\n",
      "Adventure;Action & Adventure : 0.033844765342960284\n",
      "Video Players & Editors;Music & Video : 0.02256317689530686\n",
      "Sports;Action & Adventure : 0.02256317689530686\n",
      "Simulation;Pretend Play : 0.02256317689530686\n",
      "Puzzle;Creativity : 0.02256317689530686\n",
      "Music;Music & Video : 0.02256317689530686\n",
      "Entertainment;Pretend Play : 0.02256317689530686\n",
      "Casual;Education : 0.02256317689530686\n",
      "Board;Action & Adventure : 0.02256317689530686\n",
      "Video Players & Editors;Creativity : 0.01128158844765343\n",
      "Trivia;Education : 0.01128158844765343\n",
      "Travel & Local;Action & Adventure : 0.01128158844765343\n",
      "Tools;Education : 0.01128158844765343\n",
      "Strategy;Education : 0.01128158844765343\n",
      "Strategy;Creativity : 0.01128158844765343\n",
      "Strategy;Action & Adventure : 0.01128158844765343\n",
      "Simulation;Education : 0.01128158844765343\n",
      "Role Playing;Brain Games : 0.01128158844765343\n",
      "Racing;Pretend Play : 0.01128158844765343\n",
      "Puzzle;Education : 0.01128158844765343\n",
      "Parenting;Brain Games : 0.01128158844765343\n",
      "Music & Audio;Music & Video : 0.01128158844765343\n",
      "Lifestyle;Pretend Play : 0.01128158844765343\n",
      "Lifestyle;Education : 0.01128158844765343\n",
      "Health & Fitness;Education : 0.01128158844765343\n",
      "Health & Fitness;Action & Adventure : 0.01128158844765343\n",
      "Entertainment;Education : 0.01128158844765343\n",
      "Communication;Creativity : 0.01128158844765343\n",
      "Comics;Creativity : 0.01128158844765343\n",
      "Casual;Music & Video : 0.01128158844765343\n",
      "Card;Action & Adventure : 0.01128158844765343\n",
      "Books & Reference;Education : 0.01128158844765343\n",
      "Art & Design;Pretend Play : 0.01128158844765343\n",
      "Art & Design;Action & Adventure : 0.01128158844765343\n",
      "Arcade;Pretend Play : 0.01128158844765343\n",
      "Adventure;Education : 0.01128158844765343\n"
     ]
    }
   ],
   "source": [
    "display_table(android_free, 9)"
   ]
  },
  {
   "cell_type": "markdown",
   "metadata": {},
   "source": [
    "The next step is to move a step furter in the analysis.  After all, the fact that there are a lot of a specific type of app in the market doesnt necessarily mean that that type of app gets the most engagement.  \n",
    "\n",
    "For the Apple dataset, I have constructed a table that shows the average number of reviews for each type of app.  Number of reviews is not a perfect measurement, but as we don't have a number of downloads column for this dataset it is the closest we can get with the information at our disposal.\n",
    "\n",
    "For the Google dataset, I have access to the number of installs per app which seems like a better unit of measurement than reviews, but unfortuantely these numbers are given as aproxomite counts instead of exact ones.  However, since I only care about the relative numbers and not the exact ones, the analysis will still be valid."
   ]
  },
  {
   "cell_type": "code",
   "execution_count": 17,
   "metadata": {},
   "outputs": [
    {
     "name": "stdout",
     "output_type": "stream",
     "text": [
      "Navigation : 86090.33333333333\n",
      "Reference : 74942.11111111111\n",
      "Social Networking : 71548.34905660378\n",
      "Music : 57326.530303030304\n",
      "Weather : 52279.892857142855\n",
      "Book : 39758.5\n",
      "Food & Drink : 33333.92307692308\n",
      "Finance : 31467.944444444445\n",
      "Photo & Video : 28441.54375\n",
      "Travel : 28243.8\n",
      "Shopping : 26919.690476190477\n",
      "Health & Fitness : 23298.015384615384\n",
      "Sports : 23008.898550724636\n",
      "Games : 22812.92467948718\n",
      "News : 21248.023255813954\n",
      "Productivity : 21028.410714285714\n",
      "Utilities : 18684.456790123455\n",
      "Lifestyle : 16485.764705882353\n",
      "Entertainment : 14029.830708661417\n",
      "Business : 7491.117647058823\n",
      "Education : 7003.983050847458\n",
      "Catalogs : 4004.0\n",
      "Medical : 612.0\n"
     ]
    }
   ],
   "source": [
    "table = freq_table(apple_free, 11)\n",
    "unsorted = []\n",
    "\n",
    "for i in table:\n",
    "    total = 0\n",
    "    len_genre = 0\n",
    "    for row in apple_free:\n",
    "        genre_app = row[11]\n",
    "        if genre_app == i:\n",
    "            ratings = float(row[5])\n",
    "            total += ratings\n",
    "            len_genre += 1\n",
    "    average_num = total / len_genre\n",
    "    average_tup = (average_num, i)\n",
    "    unsorted.append(average_tup)\n",
    "    \n",
    "sorted_table = sorted(unsorted, reverse = True)\n",
    "\n",
    "for i in sorted_table:\n",
    "    print(i[1] +' : ' + str(i[0]))\n",
    "\n",
    "    \n",
    "\n"
   ]
  },
  {
   "cell_type": "code",
   "execution_count": 18,
   "metadata": {
    "scrolled": true
   },
   "outputs": [
    {
     "name": "stdout",
     "output_type": "stream",
     "text": [
      "COMMUNICATION : 38456119.167247385\n",
      "VIDEO_PLAYERS : 24727872.452830188\n",
      "SOCIAL : 23253652.127118643\n",
      "PHOTOGRAPHY : 17840110.40229885\n",
      "PRODUCTIVITY : 16787331.344927534\n",
      "GAME : 15588015.603248259\n",
      "TRAVEL_AND_LOCAL : 13984077.710144928\n",
      "ENTERTAINMENT : 11640705.88235294\n",
      "TOOLS : 10801391.298666667\n",
      "NEWS_AND_MAGAZINES : 9549178.467741935\n",
      "BOOKS_AND_REFERENCE : 8767811.894736841\n",
      "SHOPPING : 7036877.311557789\n",
      "PERSONALIZATION : 5201482.6122448975\n",
      "WEATHER : 5074486.197183099\n",
      "HEALTH_AND_FITNESS : 4188821.9853479853\n",
      "MAPS_AND_NAVIGATION : 4056941.7741935486\n",
      "FAMILY : 3695641.8198090694\n",
      "SPORTS : 3638640.1428571427\n",
      "ART_AND_DESIGN : 1986335.0877192982\n",
      "FOOD_AND_DRINK : 1924897.7363636363\n",
      "EDUCATION : 1833495.145631068\n",
      "BUSINESS : 1712290.1474201474\n",
      "LIFESTYLE : 1437816.2687861272\n",
      "FINANCE : 1387692.475609756\n",
      "HOUSE_AND_HOME : 1331540.5616438356\n",
      "DATING : 854028.8303030303\n",
      "COMICS : 817657.2727272727\n",
      "AUTO_AND_VEHICLES : 647317.8170731707\n",
      "LIBRARIES_AND_DEMO : 638503.734939759\n",
      "PARENTING : 542603.6206896552\n",
      "BEAUTY : 513151.88679245283\n",
      "EVENTS : 253542.22222222222\n",
      "MEDICAL : 120550.61980830671\n"
     ]
    }
   ],
   "source": [
    "table = freq_table(android_free, 1)\n",
    "unsorted = []\n",
    "    \n",
    "for i in table:\n",
    "    total = 0\n",
    "    len_category = 0\n",
    "    for row in android_free:\n",
    "        category_app = row[1]\n",
    "        if category_app == i:\n",
    "            installs = row[5]\n",
    "            no_plus_installs = installs.replace('+', '')\n",
    "            updated_installs = no_plus_installs.replace(',', '')\n",
    "            total += float(updated_installs)\n",
    "            len_category += 1\n",
    "    average_num = total / len_category\n",
    "    average_tup = (average_num, i)\n",
    "    unsorted.append(average_tup)\n",
    "    \n",
    "sorted_table = sorted(unsorted, reverse = True)\n",
    "\n",
    "for i in sorted_table:\n",
    "    print(i[1] +' : ' + str(i[0]))\n",
    "    \n",
    "            \n",
    "        "
   ]
  },
  {
   "cell_type": "markdown",
   "metadata": {},
   "source": [
    "## Recommendations\n",
    "\n",
    "Based on the data, I recommend developing a reference app to put on the Google Play and Apple Stores.  Reference has the second highest level of average user engagement among english free apps on the Apple store, and while the insights from the Google Play store are not as conclusive - the data shows that the audience is there to support a multiple stage rollout across the two platforms.  Additionally, building a competative product in this space will likely be easier than trying to compete with the likes of Apple Maps, Spotify, and Instagram in the other high user engagement Genres.\n",
    "\n",
    "The other big plus to moving in this direction, is that we won't have to deal with the same level of complexity that we would with the other top audiences.  Breaking into Navigation, Weather, or Finance would likely entail having to connect to complex and expensive APIs, Music or Book apps would require us to aquire IP rights (and the ads on these types of apps are usually viewed as invasive by users), and the popular food and drink apps are primarly owned by restauraunt chains which is out of the scope of our orgnaization.\n",
    "\n",
    "While reference isnt very sexy, building a highly functional dictionary, thesaurus, or translation app may be the fastest way to building a large, loyal and engaged audience to support the organization's ad revenues.\n"
   ]
  }
 ],
 "metadata": {
  "kernelspec": {
   "display_name": "Python 3",
   "language": "python",
   "name": "python3"
  },
  "language_info": {
   "codemirror_mode": {
    "name": "ipython",
    "version": 3
   },
   "file_extension": ".py",
   "mimetype": "text/x-python",
   "name": "python",
   "nbconvert_exporter": "python",
   "pygments_lexer": "ipython3",
   "version": "3.7.6"
  }
 },
 "nbformat": 4,
 "nbformat_minor": 4
}
