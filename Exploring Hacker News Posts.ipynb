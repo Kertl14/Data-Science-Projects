{
 "cells": [
  {
   "cell_type": "markdown",
   "metadata": {},
   "source": [
    "# Exploring Hacker News Posts\n",
    "\n",
    "Hacker News is a site started by the startup incubator Y Combinator, where user-submitted stories (known as \"posts\") are voted and commented upon, similar to reddit. Hacker News is extremely popular in technology and startup circles, and posts that make it to the top of Hacker News' listings can get hundreds of thousands of visitors as a result.\n",
    "\n",
    "In this notebook, I will determine whether Ask HN or Show HN posts tend to get more comments, and whether there is any specific time of day that will maximize the number of comments made on a post.\n",
    "\n",
    "The dataset we are working with below consists of a 20,000 row sample of Hacker News posts."
   ]
  },
  {
   "cell_type": "markdown",
   "metadata": {},
   "source": [
    "Before getting started, I'll load in the dataset and take a look at the header row, plus the first five rows of data go get a feel for how the data is structured."
   ]
  },
  {
   "cell_type": "code",
   "execution_count": 1,
   "metadata": {},
   "outputs": [
    {
     "name": "stdout",
     "output_type": "stream",
     "text": [
      "['id', 'title', 'url', 'num_points', 'num_comments', 'author', 'created_at']\n",
      "\n",
      "['12224879', 'Interactive Dynamic Video', 'http://www.interactivedynamicvideo.com/', '386', '52', 'ne0phyte', '8/4/2016 11:52']\n",
      "\n",
      "['10975351', 'How to Use Open Source and Shut the Fuck Up at the Same Time', 'http://hueniverse.com/2016/01/26/how-to-use-open-source-and-shut-the-fuck-up-at-the-same-time/', '39', '10', 'josep2', '1/26/2016 19:30']\n",
      "\n",
      "['11964716', \"Florida DJs May Face Felony for April Fools' Water Joke\", 'http://www.thewire.com/entertainment/2013/04/florida-djs-april-fools-water-joke/63798/', '2', '1', 'vezycash', '6/23/2016 22:20']\n",
      "\n",
      "['11919867', 'Technology ventures: From Idea to Enterprise', 'https://www.amazon.com/Technology-Ventures-Enterprise-Thomas-Byers/dp/0073523429', '3', '1', 'hswarna', '6/17/2016 0:01']\n",
      "\n",
      "['10301696', 'Note by Note: The Making of Steinway L1037 (2007)', 'http://www.nytimes.com/2007/11/07/movies/07stein.html?_r=0', '8', '2', 'walterbell', '9/30/2015 4:12']\n",
      "\n"
     ]
    }
   ],
   "source": [
    "# Open and format the dataset as a list of lists\n",
    "import csv  \n",
    "opened = open('hacker_news.csv')\n",
    "read = csv.reader(opened)\n",
    "hn = list(read)\n",
    "headers = hn[0] # Move header row to its own list\n",
    "hn = hn[1:]    \n",
    "\n",
    "# Explore dataset format\n",
    "print(headers)\n",
    "print()\n",
    "\n",
    "for row in hn[0:5]:\n",
    "    print(row)\n",
    "    print()"
   ]
  },
  {
   "cell_type": "markdown",
   "metadata": {},
   "source": [
    "## Do Ask HN or Show HN recieve more comments on average?\n",
    "\n",
    "To answer this question I must set aside both the ask and show posts so that I can compare them.  I do this below by splitting the dataset into three lists."
   ]
  },
  {
   "cell_type": "code",
   "execution_count": 2,
   "metadata": {
    "scrolled": true
   },
   "outputs": [
    {
     "name": "stdout",
     "output_type": "stream",
     "text": [
      "Ask Posts: 1744\n",
      "Show Posts: 1162\n",
      "Other Posts: 17194\n"
     ]
    }
   ],
   "source": [
    "# Split the dataset into three smaller sublists\n",
    "ask_posts = []\n",
    "show_posts = []\n",
    "other_posts = []\n",
    "\n",
    "for row in hn:\n",
    "    title = row[1].lower()\n",
    "    if title.startswith('ask hn'):\n",
    "        ask_posts.append(row)\n",
    "    elif title.startswith('show hn'):\n",
    "        show_posts.append(row)\n",
    "    else:\n",
    "        other_posts.append(row)\n",
    "        \n",
    "print(\"Ask Posts: \" + str(len(ask_posts)))\n",
    "print(\"Show Posts: \" + str(len(show_posts)))\n",
    "print(\"Other Posts: \" + str(len(other_posts)))\n",
    "            "
   ]
  },
  {
   "cell_type": "markdown",
   "metadata": {},
   "source": [
    "Next step is to calculate the average number of comments for both ask and show posts."
   ]
  },
  {
   "cell_type": "code",
   "execution_count": 3,
   "metadata": {},
   "outputs": [
    {
     "name": "stdout",
     "output_type": "stream",
     "text": [
      "24483\n",
      "14.038417431192661\n",
      "11988\n",
      "10.31669535283993\n"
     ]
    }
   ],
   "source": [
    "# Calculate average ask comments\n",
    "total_ask_comments = 0\n",
    "\n",
    "for row in ask_posts:\n",
    "    comments = int(row[4])\n",
    "    total_ask_comments += comments\n",
    "    \n",
    "print(total_ask_comments)\n",
    "\n",
    "avg_ask_comments = total_ask_comments / len(ask_posts)\n",
    "\n",
    "print(avg_ask_comments)\n",
    "\n",
    "\n",
    "# Calculate average show comments\n",
    "total_show_comments = 0\n",
    "\n",
    "for row in show_posts:\n",
    "    comments = int(row[4])\n",
    "    total_show_comments += comments\n",
    "    \n",
    "print(total_show_comments)\n",
    "\n",
    "avg_show_comments = total_show_comments / len(show_posts)\n",
    "\n",
    "print(avg_show_comments)"
   ]
  },
  {
   "cell_type": "markdown",
   "metadata": {},
   "source": [
    "After the analysis above, I now know that Hacker News ask posts get more comments on average (14.04) than show posts do (10.32)."
   ]
  },
  {
   "cell_type": "markdown",
   "metadata": {},
   "source": [
    "## Are Ask Posts Created at a Certain Time More Likely to Recieve Comments?\n",
    "\n",
    "Next, to determine if there is an optimal time to submit Ask HN posts to maximize the number od comments made."
   ]
  },
  {
   "cell_type": "code",
   "execution_count": 9,
   "metadata": {},
   "outputs": [],
   "source": [
    "# Isolate the number of comments made to each post, and the hour of creation as a datetime object\n",
    "import datetime as dt\n",
    "result_list = []\n",
    "\n",
    "for row in ask_posts:\n",
    "    time = dt.datetime.strptime(row[6], '%m/%d/%Y %H:%M')\n",
    "    result_list.append([time, int(row[4])])\n",
    " \n",
    "# Calculate average number of comments by created hour\n",
    "counts_by_hour = {}\n",
    "comments_by_hour = {}\n",
    "\n",
    "for row in result_list:\n",
    "    hour = row[0].strftime('%H')\n",
    "    comments = row[1]\n",
    "    if hour not in counts_by_hour:\n",
    "        counts_by_hour[hour] = 1\n",
    "        comments_by_hour[hour] = comments\n",
    "    else:\n",
    "        counts_by_hour[hour] += 1\n",
    "        comments_by_hour[hour] += comments\n",
    "    \n",
    "avg_by_hour = []  \n",
    "\n",
    "for key in counts_by_hour:\n",
    "    avg = comments_by_hour[key] / counts_by_hour[key]\n",
    "    avg_by_hour.append([key, avg])\n"
   ]
  },
  {
   "cell_type": "code",
   "execution_count": 5,
   "metadata": {},
   "outputs": [
    {
     "name": "stdout",
     "output_type": "stream",
     "text": [
      "Top 5 Hours for Ask Post Comments\n",
      "15:00: 38.59 average comments per post\n",
      "02:00: 23.81 average comments per post\n",
      "20:00: 21.52 average comments per post\n",
      "16:00: 16.8 average comments per post\n",
      "21:00: 16.01 average comments per post\n"
     ]
    }
   ],
   "source": [
    "# Sort the list largest to smallest, then format it nicely\n",
    "swapped = []\n",
    "\n",
    "for row in avg_by_hour:\n",
    "    swapped.append([row[1], row[0]])\n",
    "\n",
    "sorted_swap = sorted(swapped, reverse=True)\n",
    "\n",
    "print(\"Top 5 Hours for Ask Post Comments\")\n",
    "    \n",
    "for row in sorted_swap[0:5]:\n",
    "    hour_f = dt.datetime.strptime(row[1], \"%H\")\n",
    "    print(str(hour_f.strftime(\"%H:%M\")) + \": \" + str(round(row[0], 2)) + \" average comments per post\")"
   ]
  },
  {
   "cell_type": "markdown",
   "metadata": {},
   "source": [
    "## Conclusion\n",
    "\n",
    "Our findings show that on average, Ask HN posts that are made around 3PM, 2AM, 8PM, 4PM, and 9PM local time accumulate the most comments.  The dataset documentation specifies that all times are EST.  As I am in the Pacific Time Zone, to generate the maximum number of comments I should submit Ask HN posts at 12PM, 11PM, 5PM, 1PM, or 4PM.  "
   ]
  },
  {
   "cell_type": "markdown",
   "metadata": {},
   "source": [
    "### Appendix A\n",
    "\n",
    "Do Ask or Show posts recieve more points on average?"
   ]
  },
  {
   "cell_type": "code",
   "execution_count": 6,
   "metadata": {},
   "outputs": [
    {
     "name": "stdout",
     "output_type": "stream",
     "text": [
      "15.061926605504587\n",
      "27.555077452667813\n"
     ]
    }
   ],
   "source": [
    "# Calculate average ask points\n",
    "total_ask_points = 0\n",
    "\n",
    "for row in ask_posts:\n",
    "    points = int(row[3])\n",
    "    total_ask_points += points\n",
    "\n",
    "avg_ask_points = total_ask_points / len(ask_posts)\n",
    "\n",
    "print(avg_ask_points)\n",
    "\n",
    "\n",
    "# Calculate average show points\n",
    "total_show_points = 0\n",
    "\n",
    "for row in show_posts:\n",
    "    points = int(row[3])\n",
    "    total_show_points += points\n",
    "\n",
    "avg_show_points = total_show_points / len(show_posts)\n",
    "\n",
    "print(avg_show_points)"
   ]
  },
  {
   "cell_type": "markdown",
   "metadata": {},
   "source": [
    "Show posts recieve more points on average (27.56) than ask posts do (15.06)"
   ]
  },
  {
   "cell_type": "markdown",
   "metadata": {},
   "source": [
    "### Appendix B\n",
    "\n",
    "Are Show posts at a certain time of day more likely to recieve more comments?"
   ]
  },
  {
   "cell_type": "code",
   "execution_count": 7,
   "metadata": {},
   "outputs": [],
   "source": [
    "# Isolate the number of comments made to each post, and the hour of creation as a datetime object\n",
    "import datetime as dt\n",
    "result_list = []\n",
    "\n",
    "for row in show_posts:\n",
    "    time = dt.datetime.strptime(row[6], '%m/%d/%Y %H:%M')\n",
    "    result_list.append([time, int(row[3])])\n",
    "    \n",
    "# Calculate average number of points by created hour\n",
    "counts_by_hour = {}\n",
    "comments_by_hour = {}\n",
    "\n",
    "for row in result_list:\n",
    "    hour = row[0].strftime('%H')\n",
    "    comments = row[1]\n",
    "    if hour not in counts_by_hour:\n",
    "        counts_by_hour[hour] = 1\n",
    "        comments_by_hour[hour] = comments\n",
    "    else:\n",
    "        counts_by_hour[hour] += 1\n",
    "        comments_by_hour[hour] += comments\n",
    "    \n",
    "avg_by_hour = []  \n",
    "\n",
    "for key in counts_by_hour:\n",
    "    avg = comments_by_hour[key] / counts_by_hour[key]\n",
    "    avg_by_hour.append([key, avg])\n"
   ]
  },
  {
   "cell_type": "code",
   "execution_count": 8,
   "metadata": {},
   "outputs": [
    {
     "name": "stdout",
     "output_type": "stream",
     "text": [
      "Top 5 Hours for Show Post Points\n",
      "23:00: 42.39 average points per post\n",
      "12:00: 41.69 average points per post\n",
      "22:00: 40.35 average points per post\n",
      "00:00: 37.84 average points per post\n",
      "18:00: 36.31 average points per post\n"
     ]
    }
   ],
   "source": [
    "# Sort the list largest to smallest, then format it nicely\n",
    "swapped = []\n",
    "\n",
    "for row in avg_by_hour:\n",
    "    swapped.append([row[1], row[0]])\n",
    "\n",
    "sorted_swap = sorted(swapped, reverse=True)\n",
    "\n",
    "print(\"Top 5 Hours for Show Post Points\")\n",
    "    \n",
    "for row in sorted_swap[0:5]:\n",
    "    hour_f = dt.datetime.strptime(row[1], \"%H\")\n",
    "    print(str(hour_f.strftime(\"%H:%M\")) + \": \" + str(round(row[0], 2)) + \" average points per post\")"
   ]
  },
  {
   "cell_type": "code",
   "execution_count": null,
   "metadata": {},
   "outputs": [],
   "source": []
  }
 ],
 "metadata": {
  "kernelspec": {
   "display_name": "Python 3",
   "language": "python",
   "name": "python3"
  },
  "language_info": {
   "codemirror_mode": {
    "name": "ipython",
    "version": 3
   },
   "file_extension": ".py",
   "mimetype": "text/x-python",
   "name": "python",
   "nbconvert_exporter": "python",
   "pygments_lexer": "ipython3",
   "version": "3.7.6"
  }
 },
 "nbformat": 4,
 "nbformat_minor": 4
}
